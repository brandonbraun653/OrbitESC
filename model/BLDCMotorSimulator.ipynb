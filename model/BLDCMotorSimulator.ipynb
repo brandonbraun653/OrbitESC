{
 "cells": [
  {
   "cell_type": "code",
   "execution_count": 4,
   "metadata": {},
   "outputs": [],
   "source": [
    "# This module attempts to implement the DQ model of a BLDC motor following the paper here:\n",
    "# https://ieeexplore.ieee.org/document/6687627\n",
    "\n",
    "import math\n",
    "import numpy as np"
   ]
  },
  {
   "cell_type": "code",
   "execution_count": 5,
   "metadata": {},
   "outputs": [],
   "source": [
    "# Motor Parameters (Table 1)\n",
    "Rs = 0.982  # Ohms, stator resistance\n",
    "Ld = 2.9e-3  # Henry, d-axis inductance\n",
    "Lq = 3.0e-3  # Henry, q-axis inductance\n",
    "Fl_pm = 75e-3  # Weber, Flux linkage by permanent magnets\n",
    "Pn = 4  # Number of pole pairs\n",
    "J = 0.425e-3  # kgm^2, rotor inertia"
   ]
  },
  {
   "cell_type": "code",
   "execution_count": 13,
   "metadata": {},
   "outputs": [
    {
     "ename": "",
     "evalue": "",
     "output_type": "error",
     "traceback": [
      "\u001b[1;31mThe Kernel crashed while executing code in the current cell or a previous cell. \n",
      "\u001b[1;31mPlease review the code in the cell(s) to identify a possible cause of the failure. \n",
      "\u001b[1;31mClick <a href='https://aka.ms/vscodeJupyterKernelCrash'>here</a> for more info. \n",
      "\u001b[1;31mView Jupyter <a href='command:jupyter.viewOutput'>log</a> for further details."
     ]
    }
   ],
   "source": [
    "# Experiment with simulating the motor in an open loop fashion\n",
    "\n",
    "u_q = 0.0  # Volts, q-axis voltage command input\n",
    "u_d = 0.0  # Volts, d-axis voltage command input\n",
    "k = 1.0/3.0\n",
    "Ts = 1e-9  # seconds, sampling time\n",
    "sim_time_sec = 0.1 # seconds, simulation time\n",
    "\n",
    "# Initial conditions\n",
    "theta = 0.0  # radians, rotor position\n",
    "omega = 0.0  # radians/second, rotor speed\n",
    "i_d = 0.0  # Amps, d-axis current\n",
    "i_q = 0.0  # Amps, q-axis current\n",
    "fl_d = 0.0  # Weber, d-axis flux linkage\n",
    "fl_q = 0.0  # Weber, q-axis flux linkage\n",
    "fl_d_prev = 0.0  # Weber, previous d-axis flux linkage\n",
    "fl_q_prev = 0.0  # Weber, previous q-axis flux linkage\n",
    "\n",
    "# Simulation\n",
    "phase_currents = np.zeros((3, int(sim_time_sec/Ts)))\n",
    "\n",
    "for step in range(int(sim_time_sec/Ts)):\n",
    "\n",
    "    if step == 100 and u_q < 1.0:\n",
    "        u_q += 0.001\n",
    "\n",
    "    # Equation 16: Compute the flux linkages\n",
    "    fl_d = Ld * i_d + (3.0 * k * Fl_pm) / 2.0\n",
    "    fl_q = Lq * i_q\n",
    "\n",
    "    # Equation 19: Solve for new Id/Iq\n",
    "    d_fl_d = (fl_d - fl_d_prev) / Ts    # Derivative of d-axis flux linkage\n",
    "    d_fl_q = (fl_q - fl_q_prev) / Ts    # Derivative of q-axis flux linkage\n",
    "\n",
    "    i_d = (u_d - d_fl_d - omega * fl_q) / Rs\n",
    "    i_q = (u_q - d_fl_q + omega * fl_d) / Rs\n",
    "\n",
    "    # Equation 25: Solve for electromechanical torque\n",
    "    Tem = (2.0 * Pn * (fl_d * i_q + fl_q * i_d)) / (3.0 * k ** 2)\n",
    "\n",
    "    # Equation 27: Solve for new omega\n",
    "    omega = omega + (Ts / J) * (Tem - 0.0)  # No load torque\n",
    "\n",
    "    # Solve for new theta\n",
    "    theta = (theta + omega * Ts) % (2.0 * math.pi)  # Rotor position\n",
    "\n",
    "    # Update previous values\n",
    "    fl_d_prev = fl_d\n",
    "    fl_q_prev = fl_q\n",
    "\n",
    "    # Convert i_d and i_q to Ia, Ib, Ic\n",
    "    Ia = i_d / 2.0\n",
    "    Ib = (-i_d + math.sqrt(3) * i_q) / 2.0\n",
    "    Ic = (-i_d - math.sqrt(3) * i_q) / 2.0\n",
    "\n",
    "    phase_currents[0, step] = Ia\n",
    "    phase_currents[1, step] = Ib\n",
    "    phase_currents[2, step] = Ic\n",
    "\n",
    "\n",
    "# Plot the phase currents\n",
    "import matplotlib.pyplot as plt\n",
    "plt.plot(phase_currents[0, :])\n",
    "plt.plot(phase_currents[1, :])\n",
    "plt.plot(phase_currents[2, :])\n",
    "plt.show()\n",
    "\n"
   ]
  }
 ],
 "metadata": {
  "kernelspec": {
   "display_name": ".venv",
   "language": "python",
   "name": "python3"
  },
  "language_info": {
   "codemirror_mode": {
    "name": "ipython",
    "version": 3
   },
   "file_extension": ".py",
   "mimetype": "text/x-python",
   "name": "python",
   "nbconvert_exporter": "python",
   "pygments_lexer": "ipython3",
   "version": "3.11.8"
  }
 },
 "nbformat": 4,
 "nbformat_minor": 2
}
