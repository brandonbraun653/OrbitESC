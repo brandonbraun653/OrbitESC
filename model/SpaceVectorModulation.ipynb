{
 "cells": [
  {
   "cell_type": "code",
   "execution_count": 49,
   "id": "fa8860a1-a85e-48c2-8271-e77372129514",
   "metadata": {
    "editable": true,
    "slideshow": {
     "slide_type": ""
    },
    "tags": []
   },
   "outputs": [],
   "source": [
    "# This notebook explores some of the math used for generating SVM signals. It's taken from ST app note AN2154 on applying SVM to an 8-bit microcontroller."
   ]
  },
  {
   "cell_type": "code",
   "execution_count": 50,
   "id": "1fc4ffce-f4c9-4101-9280-74b08611b06b",
   "metadata": {},
   "outputs": [],
   "source": [
    "import math\n",
    "import numpy as np"
   ]
  },
  {
   "cell_type": "code",
   "execution_count": 51,
   "id": "5f6adc9d-88ed-4208-b1aa-b0189562fd19",
   "metadata": {},
   "outputs": [],
   "source": [
    "# Sampling frequency (Hz). I think this is the overflow rate of the timer, or maybe the time it \n",
    "# takes to complete a full up/down count cycle?\n",
    "fs = 10000.0\n",
    "\n",
    "# Elapsed time per counter tick\n",
    "timer_base = 10000000.0  # 10 Mhz\n",
    "tp = 1/timer_base\n",
    "\n",
    "# Timer max value before count down. Divide by two because we have to make two trips before the PWM cycle completes.\n",
    "tmax = np.uint32((timer_base / fs) / 2)\n",
    "tmax_mod = np.uint32(tmax + 1)\n",
    "\n",
    "# Modulation Index (max sqrt(3)/2, or 0.866)\n",
    "mi = 0.5\n",
    "\n",
    "# Electrical Angle (Radians). Must not exceed PI/3 because the modulation scheme is only valid for \n",
    "# controls within a single 60 degree sector. Once we exceed that, it's moved on to a new switching \n",
    "# pattern and a new PWM time allocation.\n",
    "alpha = math.radians(10.0)"
   ]
  },
  {
   "cell_type": "code",
   "execution_count": 52,
   "id": "b49a58bb-3924-4576-850a-2ff95b9b8927",
   "metadata": {},
   "outputs": [
    {
     "name": "stdout",
     "output_type": "stream",
     "text": [
      "Sampling rate is 50.0 uS\n"
     ]
    }
   ],
   "source": [
    "# Equation 17: PWM Period\n",
    "Ts = 1.0/(2.0*fs)\n",
    "print(f\"Sampling rate is {Ts*1e6} uS\")"
   ]
  },
  {
   "cell_type": "code",
   "execution_count": 53,
   "id": "a6ed5f54-c109-400b-95b5-734c3bb3d251",
   "metadata": {},
   "outputs": [
    {
     "name": "stdout",
     "output_type": "stream",
     "text": [
      "Time in vectors from total of 50.0 uS:\n",
      "\tTa: 22.11379827229795\n",
      "\tTb: 5.01279110601451\n",
      "\tTnull: 22.873410621687544\n"
     ]
    }
   ],
   "source": [
    "# Equations 10, 11, 12: Compute the ratio of time spent in Vector A (starting vector), Vector B (final vector), and the Null vector.\n",
    "ta = (2/math.sqrt(3))*Ts*mi*math.sin((math.pi/3.0)-alpha)\n",
    "tb = (2/math.sqrt(3))*Ts*mi*math.sin(alpha)\n",
    "tnull = Ts-ta-tb\n",
    "print(f\"Time in vectors from total of {Ts*1e6} uS:\\n\\tTa: {ta*1e6}\\n\\tTb: {tb*1e6}\\n\\tTnull: {tnull*1e6}\")"
   ]
  },
  {
   "cell_type": "code",
   "execution_count": 54,
   "id": "2fb56ee5-5d94-4614-b60f-338659745cb7",
   "metadata": {},
   "outputs": [
    {
     "name": "stdout",
     "output_type": "stream",
     "text": [
      "Ta_ticks: 221\n",
      "Tb_ticks: 50\n"
     ]
    }
   ],
   "source": [
    "# Equations 14, 15, 16: Compute the capture compare register values\n",
    "ta_ticks = np.uint32(ta/tp)\n",
    "tb_ticks = np.uint32(tb/tp)\n",
    "print(f\"Ta_ticks: {ta_ticks}\\nTb_ticks: {tb_ticks}\")"
   ]
  },
  {
   "cell_type": "code",
   "execution_count": 59,
   "id": "7fc8e2e3-f6a9-449c-b208-d821f39045db",
   "metadata": {},
   "outputs": [
    {
     "ename": "TypeError",
     "evalue": "ufunc 'invert' not supported for the input types, and the inputs could not be safely coerced to any supported types according to the casting rule ''safe''",
     "output_type": "error",
     "traceback": [
      "\u001b[0;31m---------------------------------------------------------------------------\u001b[0m",
      "\u001b[0;31mTypeError\u001b[0m                                 Traceback (most recent call last)",
      "Cell \u001b[0;32mIn[59], line 4\u001b[0m\n\u001b[1;32m      1\u001b[0m inv_ta_tb \u001b[38;5;241m=\u001b[39m (\u001b[38;5;241m~\u001b[39mta_ticks \u001b[38;5;241m+\u001b[39m tb_ticks) \u001b[38;5;241m/\u001b[39m \u001b[38;5;241m2\u001b[39m\n\u001b[1;32m      3\u001b[0m phase_u_ticks \u001b[38;5;241m=\u001b[39m (\u001b[38;5;241m~\u001b[39m(ta_ticks \u001b[38;5;241m+\u001b[39m tb_ticks) \u001b[38;5;241m/\u001b[39m \u001b[38;5;241m2\u001b[39m) \u001b[38;5;241m%\u001b[39m tmax_mod\n\u001b[0;32m----> 4\u001b[0m phase_v_ticks \u001b[38;5;241m=\u001b[39m (\u001b[38;5;241;43m~\u001b[39;49m\u001b[43m(\u001b[49m\u001b[43minv_ta_tb\u001b[49m\u001b[43m)\u001b[49m \u001b[38;5;241m+\u001b[39m ta_ticks) \u001b[38;5;241m%\u001b[39m tmax_mod\n\u001b[1;32m      5\u001b[0m phase_w_ticks \u001b[38;5;241m=\u001b[39m (\u001b[38;5;241m~\u001b[39minv_ta_tb) \u001b[38;5;241m%\u001b[39m tmax_mod\n\u001b[1;32m      7\u001b[0m \u001b[38;5;28mprint\u001b[39m(phase_u_ticks)\n",
      "\u001b[0;31mTypeError\u001b[0m: ufunc 'invert' not supported for the input types, and the inputs could not be safely coerced to any supported types according to the casting rule ''safe''"
     ]
    }
   ],
   "source": [
    "inv_ta_tb = (~ta_ticks + tb_ticks) / 2\n",
    "\n",
    "phase_u_ticks = (~(ta_ticks + tb_ticks) / 2) % tmax_mod\n",
    "phase_v_ticks = (~(inv_ta_tb) + ta_ticks) % tmax_mod\n",
    "phase_w_ticks = (~inv_ta_tb) % tmax_mod\n",
    "\n",
    "print(phase_u_ticks)\n",
    "print(phase_v_ticks)\n",
    "print(phase_w_ticks)\n"
   ]
  },
  {
   "cell_type": "code",
   "execution_count": null,
   "id": "8c45615a-6fc0-424b-a1bf-a70864e3840b",
   "metadata": {},
   "outputs": [],
   "source": []
  }
 ],
 "metadata": {
  "kernelspec": {
   "display_name": "Python 3 (ipykernel)",
   "language": "python",
   "name": "python3"
  },
  "language_info": {
   "codemirror_mode": {
    "name": "ipython",
    "version": 3
   },
   "file_extension": ".py",
   "mimetype": "text/x-python",
   "name": "python",
   "nbconvert_exporter": "python",
   "pygments_lexer": "ipython3",
   "version": "3.11.4"
  }
 },
 "nbformat": 4,
 "nbformat_minor": 5
}
