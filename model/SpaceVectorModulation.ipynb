{
 "cells": [
  {
   "cell_type": "code",
   "execution_count": null,
   "id": "fa8860a1-a85e-48c2-8271-e77372129514",
   "metadata": {},
   "outputs": [],
   "source": [
    "# This notebook explores some of the math used for generating SVM signals. It's taken from ST app note AN2154 on applying SVM to an 8-bit microcontroller."
   ]
  },
  {
   "cell_type": "code",
   "execution_count": 26,
   "id": "1fc4ffce-f4c9-4101-9280-74b08611b06b",
   "metadata": {},
   "outputs": [],
   "source": [
    "import math"
   ]
  },
  {
   "cell_type": "code",
   "execution_count": 39,
   "id": "5f6adc9d-88ed-4208-b1aa-b0189562fd19",
   "metadata": {},
   "outputs": [],
   "source": [
    "# Sampling frequency (Hz)\n",
    "fs = 10000.0\n",
    "\n",
    "# Modulation Index (max sqrt(3)/2, or 0.866)\n",
    "mi = 0.5\n",
    "\n",
    "# Electrical Angle (Radians). Must not exceed PI/3 because the modulation scheme is only valid for \n",
    "# controls within a single 60 degree sector. Once we exceed that, it's moved on to a new switching \n",
    "# pattern and a new PWM time allocation.\n",
    "alpha = math.radians(30.0)"
   ]
  },
  {
   "cell_type": "code",
   "execution_count": 42,
   "id": "b49a58bb-3924-4576-850a-2ff95b9b8927",
   "metadata": {},
   "outputs": [
    {
     "name": "stdout",
     "output_type": "stream",
     "text": [
      "Sampling rate is 50.0 uS\n"
     ]
    }
   ],
   "source": [
    "# Equation 17: PWM Period\n",
    "Ts = 1.0/(2.0*fs)\n",
    "print(f\"Sampling rate is {Ts*1e6} uS\")"
   ]
  },
  {
   "cell_type": "code",
   "execution_count": 41,
   "id": "a6ed5f54-c109-400b-95b5-734c3bb3d251",
   "metadata": {},
   "outputs": [
    {
     "name": "stdout",
     "output_type": "stream",
     "text": [
      "Time in vectors from total of 50.0 uS:\n",
      "\tTa: 14.433756729740644\n",
      "\tTb: 14.433756729740644\n",
      "\tTnull: 21.13248654051871\n"
     ]
    }
   ],
   "source": [
    "# Equations 10, 11, 12: Compute the ratio of time spent in Vector A (starting vector), Vector B (final vector), and the Null vector.\n",
    "ta = (2/math.sqrt(3))*Ts*mi*math.sin((math.pi/3.0)-alpha)\n",
    "tb = (2/math.sqrt(3))*Ts*mi*math.sin(alpha)\n",
    "tnull = Ts-ta-tb\n",
    "print(f\"Time in vectors from total of {Ts*1e6} uS:\\n\\tTa: {ta*1e6}\\n\\tTb: {tb*1e6}\\n\\tTnull: {tnull*1e6}\")"
   ]
  },
  {
   "cell_type": "code",
   "execution_count": null,
   "id": "2fb56ee5-5d94-4614-b60f-338659745cb7",
   "metadata": {},
   "outputs": [],
   "source": [
    "# Equations 14, 15, 16: Compute the capture compare register values\n"
   ]
  }
 ],
 "metadata": {
  "kernelspec": {
   "display_name": "Python 3 (ipykernel)",
   "language": "python",
   "name": "python3"
  },
  "language_info": {
   "codemirror_mode": {
    "name": "ipython",
    "version": 3
   },
   "file_extension": ".py",
   "mimetype": "text/x-python",
   "name": "python",
   "nbconvert_exporter": "python",
   "pygments_lexer": "ipython3",
   "version": "3.10.12"
  }
 },
 "nbformat": 4,
 "nbformat_minor": 5
}
