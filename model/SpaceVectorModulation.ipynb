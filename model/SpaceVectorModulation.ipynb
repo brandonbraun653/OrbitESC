{
 "cells": [
  {
   "cell_type": "code",
   "execution_count": 108,
   "id": "fa8860a1-a85e-48c2-8271-e77372129514",
   "metadata": {
    "editable": true,
    "slideshow": {
     "slide_type": ""
    },
    "tags": []
   },
   "outputs": [],
   "source": [
    "# This notebook explores some of the math used for generating SVM signals. It's taken from ST app note AN2154 on applying SVM to an 8-bit microcontroller."
   ]
  },
  {
   "cell_type": "code",
   "execution_count": 109,
   "id": "1fc4ffce-f4c9-4101-9280-74b08611b06b",
   "metadata": {},
   "outputs": [],
   "source": [
    "import math\n",
    "import numpy as np"
   ]
  },
  {
   "cell_type": "code",
   "execution_count": 110,
   "id": "5f6adc9d-88ed-4208-b1aa-b0189562fd19",
   "metadata": {},
   "outputs": [],
   "source": [
    "# Sampling frequency (Hz). I think this is the overflow rate of the timer, or maybe the time it \n",
    "# takes to complete a full up/down count cycle?\n",
    "fs = 10000.0\n",
    "\n",
    "# Elapsed time per counter tick\n",
    "timer_base = 10000000.0  # 10 Mhz\n",
    "tp = 1/timer_base\n",
    "\n",
    "# Equation 17: PWM Period\n",
    "ts = 1.0/(2.0*fs)\n",
    "\n",
    "# Timer max value before count down. Divide by two because we have to make two trips before the PWM cycle completes.\n",
    "tmax = np.uint32((timer_base / fs) / 2)\n",
    "tmax_mod = np.uint32(tmax + 1)\n",
    "\n",
    "# Modulation Index (max sqrt(3)/2, or 0.866)\n",
    "mi = 0.1\n",
    "\n",
    "# Electrical Angle (Radians). Must not exceed PI/3 because the modulation scheme is only valid for \n",
    "# controls within a single 60 degree sector. Once we exceed that, it's moved on to a new switching \n",
    "# pattern and a new PWM time allocation.\n",
    "alpha = math.radians(50.0)"
   ]
  },
  {
   "cell_type": "code",
   "execution_count": 111,
   "id": "a6ed5f54-c109-400b-95b5-734c3bb3d251",
   "metadata": {},
   "outputs": [
    {
     "name": "stdout",
     "output_type": "stream",
     "text": [
      "Time in vectors from total of 50.0 uS:\n",
      "\tTa: 1.0025582212029016\n",
      "\tTb: 4.42275965445959\n",
      "\tTnull: 44.574682124337514\n"
     ]
    }
   ],
   "source": [
    "# Equations 10, 11, 12: Compute the ratio of time spent in Vector A (starting vector), Vector B (final vector), and the Null vector.\n",
    "ta = (2/math.sqrt(3))*ts*mi*math.sin((math.pi/3.0)-alpha)\n",
    "tb = (2/math.sqrt(3))*ts*mi*math.sin(alpha)\n",
    "tnull = ts-ta-tb\n",
    "print(f\"Time in vectors from total of {ts*1e6} uS:\\n\\tTa: {ta*1e6}\\n\\tTb: {tb*1e6}\\n\\tTnull: {tnull*1e6}\")"
   ]
  },
  {
   "cell_type": "code",
   "execution_count": 112,
   "id": "2fb56ee5-5d94-4614-b60f-338659745cb7",
   "metadata": {},
   "outputs": [
    {
     "name": "stdout",
     "output_type": "stream",
     "text": [
      "Ta_ticks: 10\n",
      "Tb_ticks: 44\n"
     ]
    }
   ],
   "source": [
    "# Equations 14, 15, 16: Compute the capture compare register values\n",
    "ta_ticks = np.uint32(ta/tp)\n",
    "tb_ticks = np.uint32(tb/tp)\n",
    "print(f\"Ta_ticks: {ta_ticks}\\nTb_ticks: {tb_ticks}\")"
   ]
  },
  {
   "cell_type": "code",
   "execution_count": 113,
   "id": "7fc8e2e3-f6a9-449c-b208-d821f39045db",
   "metadata": {},
   "outputs": [
    {
     "name": "stdout",
     "output_type": "stream",
     "text": [
      "Phase U Ticks: 226\n",
      "Phase V Ticks: 0\n",
      "Phase W Ticks: 491\n"
     ]
    },
    {
     "name": "stderr",
     "output_type": "stream",
     "text": [
      "/tmp/ipykernel_44187/1367421532.py:1: RuntimeWarning: overflow encountered in uint_scalars\n",
      "  inv_ta_tb = np.uint32((~ta_ticks + tb_ticks) / 2)\n"
     ]
    }
   ],
   "source": [
    "inv_ta_tb = np.uint32((~ta_ticks + tb_ticks) / 2)\n",
    "\n",
    "phase_u_ticks = int((~(ta_ticks + tb_ticks) / 2) % tmax_mod)\n",
    "phase_v_ticks = int((~(inv_ta_tb) + ta_ticks) % tmax_mod)\n",
    "phase_w_ticks = int((~inv_ta_tb) % tmax_mod)\n",
    "\n",
    "print(f\"Phase U Ticks: {phase_u_ticks}\")\n",
    "print(f\"Phase V Ticks: {phase_v_ticks}\")\n",
    "print(f\"Phase W Ticks: {phase_w_ticks}\")\n"
   ]
  },
  {
   "cell_type": "code",
   "execution_count": 114,
   "id": "8c45615a-6fc0-424b-a1bf-a70864e3840b",
   "metadata": {},
   "outputs": [
    {
     "data": {
      "image/png": "[encoded data removed]",
      "text/plain": [
       "<Figure size 640x480 with 4 Axes>"
      ]
     },
     "metadata": {},
     "output_type": "display_data"
    }
   ],
   "source": [
    "# Generate the PWM signal\n",
    "pwm_signals = np.zeros((3, 2*tmax), dtype=np.uint32)\n",
    "ticks = np.zeros((1, 2*tmax), dtype=np.uint32)\n",
    "tick_values = np.zeros((1, 2*tmax), dtype=np.uint32)  # Array to store tick values\n",
    "\n",
    "tick = 0\n",
    "count_up = True\n",
    "for x in range(2*tmax):\n",
    "    ticks[0, x] = x\n",
    "    tick_values[0, x] = tick  # Store tick value\n",
    "    if tick < phase_u_ticks:\n",
    "        pwm_signals[0, x] = 1\n",
    "    if tick < phase_v_ticks:\n",
    "        pwm_signals[1, x] = 1\n",
    "    if tick < phase_w_ticks:\n",
    "        pwm_signals[2, x] = 1\n",
    "\n",
    "    if count_up:\n",
    "        tick += 1\n",
    "        count_up = tick < tmax\n",
    "    else:\n",
    "        tick -= 1\n",
    "        count_up = tick == 0\n",
    "\n",
    "# Plot the PWM signals\n",
    "import matplotlib.pyplot as plt\n",
    "\n",
    "fig = plt.figure()\n",
    "\n",
    "# Create subplot 1\n",
    "ax1 = fig.add_subplot(4, 1, 1)\n",
    "ax1.plot(ticks[0, :], pwm_signals[0, :], 'r')\n",
    "\n",
    "# Create subplot 2\n",
    "ax2 = fig.add_subplot(4, 1, 2)\n",
    "ax2.plot(ticks[0, :], pwm_signals[1, :], 'g')\n",
    "\n",
    "# Create subplot 3\n",
    "ax3 = fig.add_subplot(4, 1, 3)\n",
    "ax3.plot(ticks[0, :], pwm_signals[2, :], 'b')\n",
    "\n",
    "# Create subplot 4 for tick values\n",
    "ax4 = fig.add_subplot(4, 1, 4)\n",
    "ax4.plot(ticks[0, :], tick_values[0, :], 'c')  # Plot tick values\n",
    "\n",
    "plt.show()\n"
   ]
  },
  {
   "cell_type": "code",
   "execution_count": 115,
   "id": "751e859a",
   "metadata": {},
   "outputs": [
    {
     "name": "stdout",
     "output_type": "stream",
     "text": [
      "Switch State Transitions: [5, 1, 0, 1, 5]\n",
      "U V W\n",
      "1 0 1\n",
      "0 0 1\n",
      "0 0 0\n",
      "0 0 1\n",
      "1 0 1\n"
     ]
    }
   ],
   "source": [
    "# Compute the switch state transitions within the single PWM cycle\n",
    "binary_values = []\n",
    "\n",
    "# Iterate over each column\n",
    "for i in range(pwm_signals.shape[1]):\n",
    "  # Convert the column to a binary string and then to an integer\n",
    "  binary_value = int(''.join(map(str, pwm_signals[:, i])), 2)\n",
    "  binary_values.append(binary_value)\n",
    "\n",
    "# Convert the list to a numpy array\n",
    "binary_values = np.array(binary_values)\n",
    "\n",
    "# Accumulate the sequence of transitions\n",
    "unique_transitions = []\n",
    "for i in range(len(binary_values)):\n",
    "  if i == 0 or binary_values[i] != binary_values[i-1]:\n",
    "    unique_transitions.append(binary_values[i])\n",
    "\n",
    "print(f\"Switch State Transitions: {unique_transitions}\")\n",
    "print(\"U V W\")\n",
    "for transition in unique_transitions:\n",
    "  binary_string = bin(transition)[2:].zfill(3)\n",
    "  print(' '.join(binary_string))\n",
    "\n",
    "# Check if only a single bit has changed between each transition\n",
    "for i in range(len(unique_transitions)-1):\n",
    "  if bin(unique_transitions[i] ^ unique_transitions[i+1]).count('1') != 1:\n",
    "    print(f\"ERROR: Invalid transition from {i-1} to {i}\")"
   ]
  }
 ],
 "metadata": {
  "kernelspec": {
   "display_name": "Python 3 (ipykernel)",
   "language": "python",
   "name": "python3"
  },
  "language_info": {
   "codemirror_mode": {
    "name": "ipython",
    "version": 3
   },
   "file_extension": ".py",
   "mimetype": "text/x-python",
   "name": "python",
   "nbconvert_exporter": "python",
   "pygments_lexer": "ipython3",
   "version": "3.10.12"
  }
 },
 "nbformat": 4,
 "nbformat_minor": 5
}
