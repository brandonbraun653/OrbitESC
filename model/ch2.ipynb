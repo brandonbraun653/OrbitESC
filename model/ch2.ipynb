{
 "cells": [
  {
   "cell_type": "code",
   "execution_count": 1,
   "id": "594abd9d-b8d3-42fb-a310-2fe7b5d30cbb",
   "metadata": {},
   "outputs": [
    {
     "name": "stderr",
     "output_type": "stream",
     "text": [
      "2022-05-23 21:53:12.346 | INFO     | __main__:<cell line: 2>:2 - Hello world!\n"
     ]
    }
   ],
   "source": [
    "from loguru import logger \n",
    "logger.info(\"Hello world!\")"
   ]
  }
 ],
 "metadata": {
  "interpreter": {
   "hash": "089d04da3400a0a324d934bc556f47b74f318a48c176056c61b7fdc8611ae25a"
  },
  "kernelspec": {
   "display_name": "Python 3.9.12 (conda)",
   "language": "python",
   "name": "python3"
  },
  "language_info": {
   "codemirror_mode": {
    "name": "ipython",
    "version": 3
   },
   "file_extension": ".py",
   "mimetype": "text/x-python",
   "name": "python",
   "nbconvert_exporter": "python",
   "pygments_lexer": "ipython3",
   "version": "3.9.12"
  }
 },
 "nbformat": 4,
 "nbformat_minor": 5
}
